{
 "cells": [
  {
   "cell_type": "markdown",
   "metadata": {},
   "source": [
    "# Problem Description"
   ]
  },
  {
   "cell_type": "markdown",
   "metadata": {},
   "source": [
    "## What is the problem you are trying to solve?"
   ]
  },
  {
   "cell_type": "markdown",
   "metadata": {},
   "source": [
    "Identifying the MAX (light rail) stations in Portland, Oregon that have the highest frequency of crime occurences near them in order to aid more efficient and effective allocation of scarce police resources."
   ]
  },
  {
   "cell_type": "markdown",
   "metadata": {},
   "source": [
    "# Background"
   ]
  },
  {
   "cell_type": "markdown",
   "metadata": {},
   "source": [
    "In Portland, there is increasing concern about crime occuring near light rail (MAX) stations. This is exacerbated by the fact that there are not enough officers to provide adequate coverage of these increasingly high-crime areas. Furthermore, Portlanders are averse to the creation of an armed transit police force, despite the increasing occurence of violent crime outbreaks on the transit lines. Given this context, it would be of value to identify the MAX stations requiring additional police coverage, which will allow for more efficient and effective distribution of police officers to the areas in which they are needed."
   ]
  }
 ],
 "metadata": {
  "kernelspec": {
   "display_name": "Python 3",
   "language": "python",
   "name": "python3"
  },
  "language_info": {
   "codemirror_mode": {
    "name": "ipython",
    "version": 3
   },
   "file_extension": ".py",
   "mimetype": "text/x-python",
   "name": "python",
   "nbconvert_exporter": "python",
   "pygments_lexer": "ipython3",
   "version": "3.6.8"
  }
 },
 "nbformat": 4,
 "nbformat_minor": 2
}
