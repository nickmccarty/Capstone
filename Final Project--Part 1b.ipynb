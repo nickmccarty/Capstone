{
 "cells": [
  {
   "cell_type": "markdown",
   "metadata": {},
   "source": [
    "# Data"
   ]
  },
  {
   "cell_type": "markdown",
   "metadata": {},
   "source": [
    "## How can you use data to answer the question?"
   ]
  },
  {
   "cell_type": "markdown",
   "metadata": {},
   "source": [
    "The primary thrust of my approach will be to use open data to calculate the frequency of crime occurences within a defined buffer (e.g., 1,000 meters) encompassing Portland light rail stations. Secondarily, given enough time, additional data could be used to normalize these occurences in order to derive more meaningful insights and make more substantive comparisons between areas."
   ]
  },
  {
   "cell_type": "markdown",
   "metadata": {},
   "source": [
    "## What data do you need to answer the question?"
   ]
  },
  {
   "cell_type": "markdown",
   "metadata": {},
   "source": [
    "In order to begin the analysis described above, two sources of data will be required (at a minimum):\n",
    "\n",
    "1. Portland MAX station locations\n",
    "2. Portland crime data\n",
    "\n",
    "Additionally, in order to normalize the crime data aggregations, a third dataset will be required:\n",
    "\n",
    "3. Portland population data (citywide, and by neighborhood)"
   ]
  },
  {
   "cell_type": "markdown",
   "metadata": {},
   "source": [
    "## Where is the data coming from (identify all sources) and how will you get it?"
   ]
  },
  {
   "cell_type": "markdown",
   "metadata": {},
   "source": [
    "The sources of data have been identified as follows:\n",
    "\n",
    "Portland MAX station locations--\n",
    "\n",
    "* Foursquare API\n",
    "* Trimet Geospatial Data (if needed)\n",
    "\n",
    "Portland crime data--\n",
    "\n",
    "* Portland Police Bureau Neighborhood Offense Statistics\n",
    "\n",
    "Portland population data--\n",
    "\n",
    "* *PDX Monthly* Report (*Portland Neighborhoods by the Numbers 2018*)"
   ]
  },
  {
   "cell_type": "markdown",
   "metadata": {},
   "source": [
    "## Is the data to be collected representative of the problem to be solved?"
   ]
  },
  {
   "cell_type": "markdown",
   "metadata": {},
   "source": [
    "The cumulative data to be collected can be reasonably assumed to be representative of the problem to be solved, with the caveat being that 2018 data will have to be used (given the absence of complete 2019 data). Also, Portland neighborhood polygons (easily accessible) may be required to aid the requisite spatial analysis."
   ]
  },
  {
   "cell_type": "markdown",
   "metadata": {},
   "source": [
    "## What additional work is required to manipulate and work with the data?"
   ]
  },
  {
   "cell_type": "markdown",
   "metadata": {},
   "source": [
    "The response object returned from the Foursquare API call will have to be traversed and appended to lists in order to be manipulated into a useable dataframe, which will require some scripting. Given the utilization of buffers to aggregate crime counts near MAX stations, specialized libraries will be required (i.e., Shapely and/or GeoPandas) to establish polygons to be used in the requisite spatial analysis. Aggregated crime counts will need to be input into a dataframe in order to be normalized using population data. A final choropleth could be generated using this result in order to allow for the facilitated visual identification of neighborhoods with higher frequency of crime occurences near MAX stations, per capita."
   ]
  }
 ],
 "metadata": {
  "kernelspec": {
   "display_name": "Python 3",
   "language": "python",
   "name": "python3"
  },
  "language_info": {
   "codemirror_mode": {
    "name": "ipython",
    "version": 3
   },
   "file_extension": ".py",
   "mimetype": "text/x-python",
   "name": "python",
   "nbconvert_exporter": "python",
   "pygments_lexer": "ipython3",
   "version": "3.6.8"
  }
 },
 "nbformat": 4,
 "nbformat_minor": 2
}
