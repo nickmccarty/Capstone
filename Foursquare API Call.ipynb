{
 "cells": [
  {
   "cell_type": "code",
   "execution_count": 1,
   "metadata": {},
   "outputs": [],
   "source": [
    "import foursquare"
   ]
  },
  {
   "cell_type": "markdown",
   "metadata": {},
   "source": [
    "# Get MAX stops using Fourquare API"
   ]
  },
  {
   "cell_type": "code",
   "execution_count": 2,
   "metadata": {},
   "outputs": [],
   "source": [
    "client_id = [\"client_id\"]\n",
    "client_secret = [\"client_secret\"]"
   ]
  },
  {
   "cell_type": "code",
   "execution_count": 3,
   "metadata": {},
   "outputs": [],
   "source": [
    "client = foursquare.Foursquare(client_id = client_id,\n",
    "                               client_secret=client_secret,\n",
    "                               version='20191021')"
   ]
  },
  {
   "cell_type": "code",
   "execution_count": 4,
   "metadata": {},
   "outputs": [],
   "source": [
    "response = client.venues.search(params={'query': \"Trimet MAX Station\",\n",
    "                                        'll': '45.5051,-122.6750',\n",
    "                                        'radius' : 200000,\n",
    "                                        'limit' : 100\n",
    "                                       })"
   ]
  },
  {
   "cell_type": "code",
   "execution_count": 113,
   "metadata": {},
   "outputs": [
    {
     "name": "stdout",
     "output_type": "stream",
     "text": [
      "TriMet PSU/SW 6th & Montgomery MAX Station\n",
      "TriMet SW 6th & SW Madison MAX Station\n",
      "TriMet Goose Hollow/SW Jefferson MAX Station\n",
      "TriMet Mall/SW 5th Ave MAX Station\n",
      "TriMet Pioneer Courthouse/SW 6th Ave MAX Station\n",
      "TriMet PSU South/SW 6th & College St MAX Station\n",
      "TriMet Providence Park MAX Station\n",
      "TriMet Yamhill District MAX Station\n",
      "TriMet SW 5th & Oak MAX Station\n",
      "TriMet PSU Urban Center/SW 5th & Mill St MAX Station\n",
      "TriMet Library/SW 9th Ave MAX Station\n",
      "TriMet Convention Center MAX Station\n",
      "TriMet Mall/SW 4th Ave MAX Station\n",
      "TriMet MAX Yellow Line\n",
      "TriMet SW 6th & Pine St MAX Station\n",
      "TriMet Old Town/Chinatown MAX Station\n",
      "TriMet - Clinton St / SE 12th Ave MAX Station\n",
      "TriMet Oak/SW 1st Ave MAX Station\n",
      "TriMet Lloyd Center/NE 11th Ave MAX Station\n",
      "TriMet Union Station/NW 6th & Hoyt MAX Station\n",
      "TriMet NE 7th Ave MAX Station\n",
      "TriMet SE 17th Ave / Rhine St MAX Station\n",
      "TriMet Kings Hill/SW Salmon MAX Station\n",
      "TriMet SE 17th Ave & Holgate Blvd MAX Station\n",
      "TriMet Union Station/NW 5th & Glisan St MAX Station\n",
      "TriMet Portland International Airport MAX Station\n",
      "TriMet Gateway/NE 99th Ave MAX Station\n",
      "TriMet South Waterfront / SW Moody MAX Station\n",
      "TriMet NW 6th Ave & Couch St MAX Station\n",
      "TriMet Washington Park MAX Station\n",
      "TriMet Merlo Road/SW 158th Ave MAX Station\n",
      "TriMet Beaverton Central MAX Station\n",
      "TriMet MAX Blue Line\n",
      "TriMet PSU/SW 5th & Jackson MAX Station\n",
      "TriMet NE 60th Ave MAX Station\n",
      "TriMet OMSI/SE Water MAX Station\n",
      "TriMet Overlook Park MAX Station\n",
      "TriMet Beaverton Creek MAX Station\n",
      "TriMet Pioneer Square South MAX Station\n",
      "TriMet Orenco/NW 231st Ave MAX Station\n",
      "TriMet NE 82nd Ave MAX Station\n",
      "TriMet MAX Orange Line\n",
      "TriMet Interstate/Rose Quarter MAX Station\n",
      "TriMet Millikan Way MAX Station\n",
      "TriMet N Prescott St MAX Station\n",
      "TriMet Morrison/SW 3rd Ave MAX Station\n",
      "TriMet City Hall/SW 5th & Jefferson St MAX Station\n",
      "TriMet Galleria/SW 10th Ave MAX Station\n",
      "TriMet N Killingsworth St MAX Station\n"
     ]
    },
   ],
   "source": [
    "for i in range(1, 100):\n",
    "    print(response['venues'][i]['name'])"
   ]
  },
  {
   "cell_type": "code",
   "execution_count": null,
   "metadata": {},
   "outputs": [],
   "source": []
  }
 ],
 "metadata": {
  "kernelspec": {
   "display_name": "Python 3",
   "language": "python",
   "name": "python3"
  },
  "language_info": {
   "codemirror_mode": {
    "name": "ipython",
    "version": 3
   },
   "file_extension": ".py",
   "mimetype": "text/x-python",
   "name": "python",
   "nbconvert_exporter": "python",
   "pygments_lexer": "ipython3",
   "version": "3.6.8"
  }
 },
 "nbformat": 4,
 "nbformat_minor": 2
}
